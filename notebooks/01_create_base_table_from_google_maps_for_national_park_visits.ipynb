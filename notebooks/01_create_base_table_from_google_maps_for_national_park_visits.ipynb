{
 "cells": [
  {
   "attachments": {},
   "cell_type": "markdown",
   "metadata": {},
   "source": [
    "# Purpose\n",
    "* Create the base tracking visits to National Parks\n",
    "* Pulled on February 3, 2025."
   ]
  },
  {
   "attachments": {},
   "cell_type": "markdown",
   "metadata": {},
   "source": [
    "# Setup"
   ]
  },
  {
   "attachments": {},
   "cell_type": "markdown",
   "metadata": {},
   "source": [
    "## Packages"
   ]
  },
  {
   "cell_type": "code",
   "execution_count": 1,
   "metadata": {},
   "outputs": [],
   "source": [
    "###############################################################################\n",
    "# GENERAL #\n",
    "import pathlib as pl\n",
    "import zipfile\n",
    "\n",
    "\n",
    "###############################################################################\n",
    "# ANALYSIS #\n",
    "import geopandas as gpd\n",
    "import numpy as np\n",
    "import pandas as pd\n",
    "\n",
    "###############################################################################\n",
    "# LOCAL #\n",
    "\n",
    "ROOT_DIR = \"/Users/evancanfield/Documents/Projects/national_park_passport_stamps/\"\n"
   ]
  },
  {
   "attachments": {},
   "cell_type": "markdown",
   "metadata": {},
   "source": [
    "## Data"
   ]
  },
  {
   "attachments": {},
   "cell_type": "markdown",
   "metadata": {},
   "source": [
    "### Google Map Export"
   ]
  },
  {
   "attachments": {},
   "cell_type": "markdown",
   "metadata": {},
   "source": [
    "#### Unzip KMZ File"
   ]
  },
  {
   "cell_type": "code",
   "execution_count": 2,
   "metadata": {},
   "outputs": [
    {
     "name": "stdout",
     "output_type": "stream",
     "text": [
      "KML File Aready Exists.\n"
     ]
    }
   ],
   "source": [
    "def kmz_to_kml(kmz_file, output_dir):\n",
    "    kmz_file_name = f'{kmz_file.stem}.kml'\n",
    "    with zipfile.ZipFile(kmz_file, 'r') as kmz:\n",
    "        for file in kmz.namelist():\n",
    "            if file.endswith('.kml'):\n",
    "                kml_content = kmz.read(file)\n",
    "                kml_path = pl.Path(output_dir, kmz_file_name)\n",
    "                with open(kml_path, 'wb') as kml_file:\n",
    "                    kml_file.write(kml_content)\n",
    "                print(f\"KML file extracted to: {kml_path}\")\n",
    "\n",
    "# Define path to kml file\n",
    "date_of_conversion = \"2025-02-03\"\n",
    "map_stem = f\"national_park_visited_records_{date_of_conversion}\"\n",
    "map_dir = pl.Path(ROOT_DIR, \"data\", \"raw\")\n",
    "map_kml_file = pl.Path(map_dir, f'{map_stem}.kml')\n",
    "map_kmz_file = pl.Path(map_dir, f'{map_stem}.kmz')\n",
    "\n",
    "if not map_kml_file.exists():\n",
    "\n",
    "    kmz_to_kml(map_kmz_file, map_kmz_file.parent)\n",
    "\n",
    "else:\n",
    "    print('KML File Aready Exists.')"
   ]
  },
  {
   "attachments": {},
   "cell_type": "markdown",
   "metadata": {},
   "source": [
    "#### Read KML File"
   ]
  },
  {
   "cell_type": "code",
   "execution_count": 3,
   "metadata": {},
   "outputs": [],
   "source": [
    "# Identify all kml layers\n",
    "layers = gpd.list_layers(map_kml_file)\n",
    "\n",
    "# Init storage\n",
    "dct_map = {}\n",
    "\n",
    "\n",
    "for layer in layers['name'].unique():\n",
    "    dct_map[layer] = gpd.read_file(\n",
    "        map_kml_file,\n",
    "        layer = layer\n",
    "    )"
   ]
  },
  {
   "cell_type": "code",
   "execution_count": null,
   "metadata": {},
   "outputs": [],
   "source": []
  },
  {
   "attachments": {},
   "cell_type": "markdown",
   "metadata": {},
   "source": [
    "# Processing"
   ]
  },
  {
   "attachments": {},
   "cell_type": "markdown",
   "metadata": {},
   "source": [
    "## Clean Up Google Map Data"
   ]
  },
  {
   "cell_type": "code",
   "execution_count": 4,
   "metadata": {},
   "outputs": [
    {
     "name": "stdout",
     "output_type": "stream",
     "text": [
      "--------------------------------------------------------------------------------\n",
      "Not Visited\n",
      "\n",
      "--------------------------------------------------------------------------------\n",
      "Visited - Evan\n",
      "\n",
      "--------------------------------------------------------------------------------\n",
      "Visited - Kelsey\n",
      "\n",
      "--------------------------------------------------------------------------------\n",
      "Visited - Evan and Kelsey\n",
      "\n"
     ]
    }
   ],
   "source": [
    "# Initialize varaiables\n",
    "frames = []\n",
    "drop_cols = ['description', 'geometry']\n",
    "\n",
    "\n",
    "for split, gdf in dct_map.items():\n",
    "    print(80 * '-')\n",
    "    print(split)\n",
    "    print()\n",
    "\n",
    "    # Set columns to lower case\n",
    "    cols = gdf.columns\n",
    "    gdf.columns = [col.lower() for col in cols]\n",
    "\n",
    "    # Latitude\n",
    "    gdf['latitude'] = gdf['geometry'].apply(\n",
    "        lambda x: x.y\n",
    "    )\n",
    "\n",
    "    # Longitude\n",
    "    gdf['longitude'] = gdf['geometry'].apply(\n",
    "        lambda x: x.x\n",
    "    )\n",
    "\n",
    "    # Convert to dataframe and drop select columns\n",
    "    df = pd.DataFrame(gdf).drop(columns = drop_cols)\n",
    "\n",
    "    # Assin region to a column\n",
    "    df['split'] = split\n",
    "\n",
    "    frames.append(df)\n",
    "\n",
    "df_visit = pd.concat(frames)\n",
    "\n",
    "# Sort by Year and Name\n",
    "df_visit = df_visit.sort_values(\n",
    "    ['split',  'name'], \n",
    "    ascending=[True, True]\n",
    ")"
   ]
  },
  {
   "attachments": {},
   "cell_type": "markdown",
   "metadata": {},
   "source": [
    "## Generate Map Label"
   ]
  },
  {
   "cell_type": "code",
   "execution_count": 5,
   "metadata": {},
   "outputs": [],
   "source": [
    "# Apply function to create a new column\n",
    "df_visit['Kelsey'] = df_visit['split'].apply(\n",
    "    lambda x: 'Kelsey' in x\n",
    ")\n",
    "\n",
    "df_visit['Evan'] = df_visit['split'].apply(\n",
    "    lambda x: 'Evan' in x\n",
    ")"
   ]
  },
  {
   "attachments": {},
   "cell_type": "markdown",
   "metadata": {},
   "source": [
    "# Export"
   ]
  },
  {
   "cell_type": "code",
   "execution_count": 6,
   "metadata": {},
   "outputs": [],
   "source": [
    "processed_data_dir = pl.Path(ROOT_DIR, \"data\", \"processed\")\n",
    "visited_table_name = f\"national_park_visited_records_{date_of_conversion}.csv\"\n",
    "visited_table_name = pl.Path(processed_data_dir, visited_table_name)\n",
    "\n",
    "df_visit.to_csv(visited_table_name, index = False)"
   ]
  }
 ],
 "metadata": {
  "kernelspec": {
   "display_name": ".national_park_passport_stamps",
   "language": "python",
   "name": "python3"
  },
  "language_info": {
   "codemirror_mode": {
    "name": "ipython",
    "version": 3
   },
   "file_extension": ".py",
   "mimetype": "text/x-python",
   "name": "python",
   "nbconvert_exporter": "python",
   "pygments_lexer": "ipython3",
   "version": "3.11.5"
  },
  "orig_nbformat": 4
 },
 "nbformat": 4,
 "nbformat_minor": 2
}
